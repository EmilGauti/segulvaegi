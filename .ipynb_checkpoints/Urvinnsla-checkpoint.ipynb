{
 "cells": [
  {
   "cell_type": "markdown",
   "metadata": {},
   "source": [
    "Þvermál kúlu mæld með skíðmáli: (53.40+-0.05) mm\n",
    "Z-ás plastlóðs: (9.20 +-0.05)mm\n",
    "Z-ás plastlóðs/2: [$Z_L$](4.60 +-0.025)mm\n",
    "Þvermál plastlóðs: (12.20 +- 0.05)mm\n",
    "lengd stangar: (93.8 +- 0.05)mm\n",
    "lengd svarta nabba:[$L_n$] (12.4 +- 0.1)mm\n",
    "radíus helmholts-spólu[$r_h$] skv. vinnuseðli er: 0.109 m\n",
    "lóðrétt bil á milli helmholts-spóla er: 0.138 m\n",
    "fjöldi snúninga í hverri spólu: 195\n",
    "$R_{k} = {26.70\\pm0.025}{mm}$\n",
    "$x:$ mæld lengd frá efri brún nabba að neðri brún lóðs\n",
    "$r=R_k+L_n+Z_L+x$\n",
    "$I[A]$: Straumurinn sem þarf til þess að kúlan byrji að snúast upp á við\n",
    "Biot-savart: $B_z = \\frac{\\mu_0I r_h^2}{2(r_h^2 +z^2)^{3/2}}$\n",
    "þar sem $z=0$(fjarlægð seguls frá miðju beggja spólanna)\n"
   ]
  },
  {
   "cell_type": "code",
   "execution_count": 44,
   "metadata": {},
   "outputs": [],
   "source": [
    "mu_0 = 4*np.pi*10**(-7)\n",
    "r_h = 0.109#m\n",
    "n_h = 195#fjöldi snúninga\n",
    "D_I = 0.1#Amper-gæti þurft að endurskoða\n",
    "D_x = 0.1 #mm - óvissan í x-mælingu er meiri en 0.05mm því hún er svo erfið :o\n",
    "n = len(x)\n",
    "R_k = 26.7*10**(-3)#radius kúlu\n",
    "L_n = 12.4*10**(-3)#lengd priks\n",
    "Z_L = 4.6*10**(-3)#Lengd nabba\n",
    "m_L = 1.3588*10**(-3) #Kg\n",
    "g = 9.823 # skv eih síðu"
   ]
  },
  {
   "cell_type": "code",
   "execution_count": 47,
   "metadata": {},
   "outputs": [
    {
     "name": "stdout",
     "output_type": "stream",
     "text": [
      "41.08603981248774 -0.034719100101112135\n",
      "0.5483956041432776\n"
     ]
    },
    {
     "data": {
      "image/png": "[encoded data removed]",
      "text/plain": [
       "<Figure size 432x288 with 1 Axes>"
      ]
     },
     "metadata": {
      "needs_background": "light"
     },
     "output_type": "display_data"
    }
   ],
   "source": [
    "import matplotlib.pyplot as plt\n",
    "import numpy as np\n",
    "\n",
    "x_ljott = [9.80,29.80]\n",
    "I_ljott = [2.00,2.11]\n",
    "x = np.array([15.20,19.1,29.80,31.00,41.60])*10**(-3)#mælt í mm\n",
    "I = np.array([1.99,2.16,2.39,2.34,2.57])\n",
    "\n",
    "r = R_k+L_n+Z_L+x\n",
    "\n",
    "B= mu_0*I*r_h**2*n_h/(2*(r_h**3))\n",
    "plt.scatter(B,r)\n",
    "plt.xlim(0.002,0.00325)\n",
    "a,b=np.polyfit(B,r,1)\n",
    "XX = np.linspace(0.002,0.0032,50)\n",
    "YY = a*XX + b\n",
    "plt.plot(XX,YY)\n",
    "print(a,b)\n",
    "\n",
    "mu = a*(m_L*g)\n",
    "print(mu)"
   ]
  },
  {
   "cell_type": "markdown",
   "metadata": {},
   "source": [
    "Núna höldum við ótrauðir áfram í næsta lið, lið 2.\n",
    "Tökum $n$-fjölda sveifla og fáum þá heildar-sveiflutíma sem $T=t/n$ þar sem $t$ er heildar-mælitími"
   ]
  },
  {
   "cell_type": "code",
   "execution_count": 40,
   "metadata": {},
   "outputs": [],
   "source": [
    "D_t = 0.5#sec\n",
    "D_I_2 = 0.1\n",
    "m_k = 141.5868 * 10**(-3)\n",
    "inert = 2/5*m_k*R_k**2"
   ]
  },
  {
   "cell_type": "code",
   "execution_count": 41,
   "metadata": {},
   "outputs": [
    {
     "name": "stdout",
     "output_type": "stream",
     "text": [
      "0.0036472584978768327 -0.10472982645241345\n",
      "0.43701714181263474\n"
     ]
    },
    {
     "data": {
      "image/png": "[encoded data removed]",
      "text/plain": [
       "<Figure size 432x288 with 1 Axes>"
      ]
     },
     "metadata": {
      "needs_background": "light"
     },
     "output_type": "display_data"
    }
   ],
   "source": [
    "n = np.array([10,10,10,10,10,10]) # fjöldi\n",
    "t = np.array([16.27,14.19,12.88,11.86,11.35,10.61]) #sec\n",
    "I_2 = np.array([1.2,1.5,1.8,2.1,2.4,2.7]) #amper\n",
    "\n",
    "T = t/n\n",
    "T = T**2\n",
    "B_2 = mu_0*I_2*r_h**2*n_h/(2*(r_h**3))\n",
    "\n",
    "plt.scatter(1/B_2,T)\n",
    "a,b = np.polyfit(1/B_2,T,1)\n",
    "XX = np.linspace(0.00,1,50)\n",
    "YY = a*XX + b\n",
    "plt.plot(XX,YY)\n",
    "print(a,b)\n",
    "mu_2 = 4*np.pi**2*inert/(a)\n",
    "print(mu_2)"
   ]
  },
  {
   "cell_type": "markdown",
   "metadata": {},
   "source": [
    "Hluti 3, mælum pólveltu með snæri,stróbljósi, viljum vinna við 7Hz(út frá stróblósi). Mælum 1 pólveltu og reiknum út tíðni frá þeirri mælingu"
   ]
  },
  {
   "cell_type": "code",
   "execution_count": 69,
   "metadata": {},
   "outputs": [
    {
     "name": "stdout",
     "output_type": "stream",
     "text": [
      "0.3987779308271184\n"
     ]
    },
    {
     "data": {
      "image/png": "[encoded data removed]",
      "text/plain": [
       "<Figure size 432x288 with 1 Axes>"
      ]
     },
     "metadata": {
      "needs_background": "light"
     },
     "output_type": "display_data"
    }
   ],
   "source": [
    "f_s = 7.0#Hz \n",
    "w_s = f_s*2*np.pi#Hornhraði kúlunnar vegna spuna-Garðars\n",
    "I_3 = np.array([1.0, 1.5, 2.0, 2.5, 3.0,3.5,4.0])\n",
    "t_3 = np.array([20.42, 13.34, 10.57,9.80,7.97,6.58,5.72])#Tími pólveltu [s]\n",
    "f = 1/t_3\n",
    "w = 2*np.pi/t_3\n",
    "L = inert*w_s\n",
    "B_3 = mu_0*I_3*r_h**2*n_h/(2*(r_h**3))\n",
    "\n",
    "plt.scatter(B_3,w)\n",
    "a,b = np.polyfit(B_3,w,1)\n",
    "XX = np.linspace(0.0,0.01,50)\n",
    "YY = a*XX + b\n",
    "plt.plot(XX,YY)\n",
    "mu_3 = a*L\n",
    "print(mu_3)\n",
    "\n"
   ]
  },
  {
   "cell_type": "markdown",
   "metadata": {},
   "source": [
    "Nú förum gallvaskir í lið 4, með lóðum og látum"
   ]
  },
  {
   "cell_type": "code",
   "execution_count": 71,
   "metadata": {},
   "outputs": [],
   "source": [
    "M_L4 = 137.9464 * 10**(-3)\n",
    "sM_b = 0.4755 * 10**(-3)\n",
    "BM_b = 1.1267 * 10**(-3)"
   ]
  },
  {
   "cell_type": "code",
   "execution_count": 87,
   "metadata": {},
   "outputs": [
    {
     "name": "stdout",
     "output_type": "stream",
     "text": [
      "0.4030554178994175\n"
     ]
    },
    {
     "data": {
      "image/png": "[encoded data removed]",
      "text/plain": [
       "<Figure size 432x288 with 1 Axes>"
      ]
     },
     "metadata": {
      "needs_background": "light"
     },
     "output_type": "display_data"
    }
   ],
   "source": [
    "I_4 = np.array([3.8,3.3,2.5,1.8,1.2,0.4])#Straumur þar sem guli bolti byrjar að lyftast\n",
    "n_s = np.array([0,  1,  2,  3,  4,  5])#fjöldi lítilla bolta\n",
    "n_b = np.array([4,  4,  4,  4,  4,  4])#fjöldi stórra bolta\n",
    "totalMass = M_L4 + sM_b*n_s + BM_b*n_b\n",
    "db_dz = 1.69*10**(-2)*I_4\n",
    "plt.scatter(totalMass,db_dz)\n",
    "a,b = np.polyfit(totalMass,db_dz,1)\n",
    "XX = np.linspace(0.1420,0.145,10)\n",
    "YY = a*XX + b\n",
    "plt.plot(XX,YY)\n",
    "plt.xlim(0.1420,0.145)\n",
    "mu = -g/a\n",
    "print(mu)"
   ]
  }
 ],
 "metadata": {
  "kernelspec": {
   "display_name": "Python 3",
   "language": "python",
   "name": "python3"
  },
  "language_info": {
   "codemirror_mode": {
    "name": "ipython",
    "version": 3
   },
   "file_extension": ".py",
   "mimetype": "text/x-python",
   "name": "python",
   "nbconvert_exporter": "python",
   "pygments_lexer": "ipython3",
   "version": "3.7.1"
  }
 },
 "nbformat": 4,
 "nbformat_minor": 2
}
